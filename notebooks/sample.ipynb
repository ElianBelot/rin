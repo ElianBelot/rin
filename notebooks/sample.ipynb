{
 "cells": [
  {
   "cell_type": "markdown",
   "metadata": {},
   "source": [
    "### Setup"
   ]
  },
  {
   "cell_type": "code",
   "execution_count": 1,
   "metadata": {},
   "outputs": [],
   "source": [
    "from matplotlib import pyplot as plt\n",
    "\n",
    "from src.models.diffusion import DiffusionModel\n",
    "from src.models.rin import RINModel\n",
    "from src.utils.noise import gamma_cosine\n",
    "from src.utils.sample import sample_ddpm\n",
    "\n",
    "\n",
    "def show_images(images, title):\n",
    "    fig, axes = plt.subplots(1, len(images), figsize=(15, 4))\n",
    "    for i, ax in enumerate(axes):\n",
    "        img = images[i].permute(1, 2, 0)\n",
    "        img = (img + 1) / 2.0\n",
    "        ax.imshow(img.clamp(0, 1))\n",
    "        ax.axis(\"off\")\n",
    "    plt.suptitle(title)\n",
    "    plt.tight_layout()\n",
    "    plt.show()"
   ]
  },
  {
   "cell_type": "code",
   "execution_count": null,
   "metadata": {},
   "outputs": [],
   "source": [
    "net = RINModel(\n",
    "    image_size=64,\n",
    "    patch_size=8,\n",
    "    latent_dim=256,\n",
    "    interface_dim=128,\n",
    "    num_latents=64,\n",
    "    num_blocks=2,\n",
    "    block_depth=1,\n",
    "    num_heads=4,\n",
    ")\n",
    "\n",
    "model = DiffusionModel.load_from_checkpoint(\n",
    "    \"logs/checkpoints/epoch=9-step=25440.ckpt\",\n",
    "    net=net,\n",
    "    image_size=64,\n",
    "    map_location=\"cpu\",\n",
    ")\n",
    "\n",
    "model = model.to(\"mps\")\n",
    "_ = model.eval()"
   ]
  },
  {
   "cell_type": "markdown",
   "metadata": {},
   "source": [
    "### Sample"
   ]
  },
  {
   "cell_type": "code",
   "execution_count": null,
   "metadata": {},
   "outputs": [],
   "source": [
    "NUM_SAMPLES = 8\n",
    "NUM_STEPS = 100\n",
    "\n",
    "samples = sample_ddpm(\n",
    "    model=model,\n",
    "    shape=(NUM_SAMPLES, 3, 64, 64),\n",
    "    gamma_fn=gamma_cosine,\n",
    "    num_steps=NUM_STEPS,\n",
    "    device=\"mps\",\n",
    ")\n",
    "\n",
    "show_images(samples.cpu(), f\"DDPM samples with {NUM_STEPS} steps\")"
   ]
  }
 ],
 "metadata": {
  "kernelspec": {
   "display_name": "rin",
   "language": "python",
   "name": "python3"
  },
  "language_info": {
   "codemirror_mode": {
    "name": "ipython",
    "version": 3
   },
   "file_extension": ".py",
   "mimetype": "text/x-python",
   "name": "python",
   "nbconvert_exporter": "python",
   "pygments_lexer": "ipython3",
   "version": "3.11.11"
  }
 },
 "nbformat": 4,
 "nbformat_minor": 2
}
