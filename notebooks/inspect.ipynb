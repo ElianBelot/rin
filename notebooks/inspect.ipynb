{
 "cells": [
  {
   "cell_type": "code",
   "execution_count": 1,
   "metadata": {},
   "outputs": [],
   "source": [
    "import torch\n",
    "from torchinfo import summary\n",
    "\n",
    "from src.models.rin import RINModel\n",
    "\n",
    "# Dummy config\n",
    "model = RINModel()\n",
    "\n",
    "# Dummy input\n",
    "B, C, H, W = 10, 3, 64, 64\n",
    "x = torch.randn(B, C, H, W)\n",
    "t = torch.rand(B)"
   ]
  },
  {
   "cell_type": "code",
   "execution_count": 2,
   "metadata": {},
   "outputs": [
    {
     "data": {
      "text/plain": [
       "====================================================================================================\n",
       "Layer (type:depth-idx)                             Output Shape              Param #\n",
       "====================================================================================================\n",
       "RINModel                                           [10, 3, 64, 64]           --\n",
       "├─Tokenizer: 1-1                                   [10, 64, 512]             32,768\n",
       "│    └─Linear: 2-1                                 [10, 64, 512]             98,816\n",
       "├─LatentInitializer: 1-2                           [10, 128, 1024]           2,232,320\n",
       "├─TimeConditioner: 1-3                             [10, 128, 1024]           --\n",
       "│    └─Sequential: 2-2                             [10, 1024]                132,352\n",
       "├─ModuleList: 1-4                                  --                        --\n",
       "│    └─RINBlock: 2-3                               [10, 128, 1024]           65,609,216\n",
       "│    └─RINBlock: 2-4                               [10, 128, 1024]           65,609,216\n",
       "│    └─RINBlock: 2-5                               [10, 128, 1024]           65,609,216\n",
       "│    └─RINBlock: 2-6                               [10, 128, 1024]           65,609,216\n",
       "│    └─RINBlock: 2-7                               [10, 128, 1024]           65,609,216\n",
       "│    └─RINBlock: 2-8                               [10, 128, 1024]           65,609,216\n",
       "├─Linear: 1-5                                      [10, 64, 192]             98,496\n",
       "====================================================================================================\n",
       "Total params: 396,250,048\n",
       "Trainable params: 396,250,048\n",
       "Non-trainable params: 0\n",
       "Total mult-adds (Units.GIGABYTES): 2.65\n",
       "====================================================================================================\n",
       "Input size (MB): 0.49\n",
       "Forward/backward pass size (MB): 2315.81\n",
       "Params size (MB): 1059.50\n",
       "Estimated Total Size (MB): 3375.80\n",
       "===================================================================================================="
      ]
     },
     "execution_count": 2,
     "metadata": {},
     "output_type": "execute_result"
    }
   ],
   "source": [
    "# Inspect model\n",
    "summary(model, input_data=(x, t), depth=2)"
   ]
  }
 ],
 "metadata": {
  "kernelspec": {
   "display_name": "rin",
   "language": "python",
   "name": "python3"
  },
  "language_info": {
   "codemirror_mode": {
    "name": "ipython",
    "version": 3
   },
   "file_extension": ".py",
   "mimetype": "text/x-python",
   "name": "python",
   "nbconvert_exporter": "python",
   "pygments_lexer": "ipython3",
   "version": "3.11.11"
  }
 },
 "nbformat": 4,
 "nbformat_minor": 2
}
